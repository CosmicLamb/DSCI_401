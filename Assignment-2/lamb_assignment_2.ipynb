{
 "cells": [
  {
   "cell_type": "code",
   "execution_count": 1,
   "metadata": {},
   "outputs": [],
   "source": [
    "import pandas as pd\n",
    "import numpy as np\n",
    "from sklearn import preprocessing\n",
    "from sklearn import linear_model\n",
    "from sklearn.model_selection import train_test_split\n",
    "from sklearn.feature_selection import RFECV\n",
    "from sklearn.feature_selection import SelectPercentile\n",
    "from sklearn.feature_selection import SelectKBest\n",
    "from sklearn.feature_selection import f_regression\n",
    "from sklearn.metrics import make_scorer\n",
    "from sklearn.metrics import r2_score\n",
    "from data_util import *"
   ]
  },
  {
   "cell_type": "code",
   "execution_count": 2,
   "metadata": {},
   "outputs": [],
   "source": [
    "set_a = pd.read_csv('AmesHousingSetA.csv')\n",
    "set_b = pd.read_csv('AmesHousingSetB.csv')\n",
    "\n",
    "data_a_x = set_a[list(set_a)[:-1]]\n",
    "data_a_y = set_a[list(set_a)[-1]]\n",
    "#data_a_x.head()\n",
    "\n"
   ]
  },
  {
   "cell_type": "code",
   "execution_count": 3,
   "metadata": {},
   "outputs": [
    {
     "name": "stdout",
     "output_type": "stream",
     "text": [
      "Initial shape of the table: (2344, 80)\n",
      "\n",
      "Initial number of columns of each type: \n",
      "object     43\n",
      "int64      26\n",
      "float64    11\n",
      "dtype: int64\n",
      "\n"
     ]
    }
   ],
   "source": [
    "print('Initial shape of the table: ' + str(data_a_x.shape) + \n",
    "      '\\n')\n",
    "print('Initial number of columns of each type: \\n'+\n",
    "      str(data_a_x.dtypes.value_counts()) +\n",
    "      '\\n')"
   ]
  },
  {
   "cell_type": "markdown",
   "metadata": {},
   "source": [
    "## I. Data Preprocessing\n",
    "#### 1) What specific data transforms did you perform prior to exploration and analysis, and why did you choose these?"
   ]
  },
  {
   "cell_type": "code",
   "execution_count": 4,
   "metadata": {},
   "outputs": [
    {
     "name": "stdout",
     "output_type": "stream",
     "text": [
      "Filling NaNs...\n",
      "\n"
     ]
    },
    {
     "data": {
      "text/html": [
       "<div>\n",
       "<style scoped>\n",
       "    .dataframe tbody tr th:only-of-type {\n",
       "        vertical-align: middle;\n",
       "    }\n",
       "\n",
       "    .dataframe tbody tr th {\n",
       "        vertical-align: top;\n",
       "    }\n",
       "\n",
       "    .dataframe thead th {\n",
       "        text-align: right;\n",
       "    }\n",
       "</style>\n",
       "<table border=\"1\" class=\"dataframe\">\n",
       "  <thead>\n",
       "    <tr style=\"text-align: right;\">\n",
       "      <th></th>\n",
       "      <th>PID</th>\n",
       "      <th>MS.SubClass</th>\n",
       "      <th>MS.Zoning</th>\n",
       "      <th>Lot.Frontage</th>\n",
       "      <th>Lot.Area</th>\n",
       "      <th>Street</th>\n",
       "      <th>Alley</th>\n",
       "      <th>Lot.Shape</th>\n",
       "      <th>Land.Contour</th>\n",
       "      <th>Utilities</th>\n",
       "      <th>...</th>\n",
       "      <th>Screen.Porch</th>\n",
       "      <th>Pool.Area</th>\n",
       "      <th>Pool.QC</th>\n",
       "      <th>Fence</th>\n",
       "      <th>Misc.Feature</th>\n",
       "      <th>Misc.Val</th>\n",
       "      <th>Mo.Sold</th>\n",
       "      <th>Yr.Sold</th>\n",
       "      <th>Sale.Type</th>\n",
       "      <th>Sale.Condition</th>\n",
       "    </tr>\n",
       "  </thead>\n",
       "  <tbody>\n",
       "    <tr>\n",
       "      <th>0</th>\n",
       "      <td>526350040</td>\n",
       "      <td>20</td>\n",
       "      <td>RH</td>\n",
       "      <td>80.0</td>\n",
       "      <td>11622</td>\n",
       "      <td>Pave</td>\n",
       "      <td>Grvl</td>\n",
       "      <td>Reg</td>\n",
       "      <td>Lvl</td>\n",
       "      <td>AllPub</td>\n",
       "      <td>...</td>\n",
       "      <td>120</td>\n",
       "      <td>0</td>\n",
       "      <td>Ex</td>\n",
       "      <td>MnPrv</td>\n",
       "      <td>Shed</td>\n",
       "      <td>0</td>\n",
       "      <td>6</td>\n",
       "      <td>2010</td>\n",
       "      <td>WD</td>\n",
       "      <td>Normal</td>\n",
       "    </tr>\n",
       "    <tr>\n",
       "      <th>1</th>\n",
       "      <td>526351010</td>\n",
       "      <td>20</td>\n",
       "      <td>RL</td>\n",
       "      <td>81.0</td>\n",
       "      <td>14267</td>\n",
       "      <td>Pave</td>\n",
       "      <td>Grvl</td>\n",
       "      <td>IR1</td>\n",
       "      <td>Lvl</td>\n",
       "      <td>AllPub</td>\n",
       "      <td>...</td>\n",
       "      <td>0</td>\n",
       "      <td>0</td>\n",
       "      <td>Ex</td>\n",
       "      <td>MnPrv</td>\n",
       "      <td>Gar2</td>\n",
       "      <td>12500</td>\n",
       "      <td>6</td>\n",
       "      <td>2010</td>\n",
       "      <td>WD</td>\n",
       "      <td>Normal</td>\n",
       "    </tr>\n",
       "    <tr>\n",
       "      <th>2</th>\n",
       "      <td>526353030</td>\n",
       "      <td>20</td>\n",
       "      <td>RL</td>\n",
       "      <td>93.0</td>\n",
       "      <td>11160</td>\n",
       "      <td>Pave</td>\n",
       "      <td>Grvl</td>\n",
       "      <td>Reg</td>\n",
       "      <td>Lvl</td>\n",
       "      <td>AllPub</td>\n",
       "      <td>...</td>\n",
       "      <td>0</td>\n",
       "      <td>0</td>\n",
       "      <td>Ex</td>\n",
       "      <td>MnPrv</td>\n",
       "      <td>Shed</td>\n",
       "      <td>0</td>\n",
       "      <td>4</td>\n",
       "      <td>2010</td>\n",
       "      <td>WD</td>\n",
       "      <td>Normal</td>\n",
       "    </tr>\n",
       "    <tr>\n",
       "      <th>3</th>\n",
       "      <td>527105010</td>\n",
       "      <td>60</td>\n",
       "      <td>RL</td>\n",
       "      <td>74.0</td>\n",
       "      <td>13830</td>\n",
       "      <td>Pave</td>\n",
       "      <td>Grvl</td>\n",
       "      <td>IR1</td>\n",
       "      <td>Lvl</td>\n",
       "      <td>AllPub</td>\n",
       "      <td>...</td>\n",
       "      <td>0</td>\n",
       "      <td>0</td>\n",
       "      <td>Ex</td>\n",
       "      <td>MnPrv</td>\n",
       "      <td>Shed</td>\n",
       "      <td>0</td>\n",
       "      <td>3</td>\n",
       "      <td>2010</td>\n",
       "      <td>WD</td>\n",
       "      <td>Normal</td>\n",
       "    </tr>\n",
       "    <tr>\n",
       "      <th>4</th>\n",
       "      <td>527105030</td>\n",
       "      <td>60</td>\n",
       "      <td>RL</td>\n",
       "      <td>78.0</td>\n",
       "      <td>9978</td>\n",
       "      <td>Pave</td>\n",
       "      <td>Grvl</td>\n",
       "      <td>IR1</td>\n",
       "      <td>Lvl</td>\n",
       "      <td>AllPub</td>\n",
       "      <td>...</td>\n",
       "      <td>0</td>\n",
       "      <td>0</td>\n",
       "      <td>Ex</td>\n",
       "      <td>MnPrv</td>\n",
       "      <td>Shed</td>\n",
       "      <td>0</td>\n",
       "      <td>6</td>\n",
       "      <td>2010</td>\n",
       "      <td>WD</td>\n",
       "      <td>Normal</td>\n",
       "    </tr>\n",
       "  </tbody>\n",
       "</table>\n",
       "<p>5 rows × 80 columns</p>\n",
       "</div>"
      ],
      "text/plain": [
       "         PID  MS.SubClass MS.Zoning  Lot.Frontage  Lot.Area Street Alley  \\\n",
       "0  526350040           20        RH          80.0     11622   Pave  Grvl   \n",
       "1  526351010           20        RL          81.0     14267   Pave  Grvl   \n",
       "2  526353030           20        RL          93.0     11160   Pave  Grvl   \n",
       "3  527105010           60        RL          74.0     13830   Pave  Grvl   \n",
       "4  527105030           60        RL          78.0      9978   Pave  Grvl   \n",
       "\n",
       "  Lot.Shape Land.Contour Utilities       ...       Screen.Porch Pool.Area  \\\n",
       "0       Reg          Lvl    AllPub       ...                120         0   \n",
       "1       IR1          Lvl    AllPub       ...                  0         0   \n",
       "2       Reg          Lvl    AllPub       ...                  0         0   \n",
       "3       IR1          Lvl    AllPub       ...                  0         0   \n",
       "4       IR1          Lvl    AllPub       ...                  0         0   \n",
       "\n",
       "  Pool.QC  Fence Misc.Feature Misc.Val Mo.Sold  Yr.Sold  Sale.Type  \\\n",
       "0      Ex  MnPrv         Shed        0       6     2010        WD    \n",
       "1      Ex  MnPrv         Gar2    12500       6     2010        WD    \n",
       "2      Ex  MnPrv         Shed        0       4     2010        WD    \n",
       "3      Ex  MnPrv         Shed        0       3     2010        WD    \n",
       "4      Ex  MnPrv         Shed        0       6     2010        WD    \n",
       "\n",
       "   Sale.Condition  \n",
       "0          Normal  \n",
       "1          Normal  \n",
       "2          Normal  \n",
       "3          Normal  \n",
       "4          Normal  \n",
       "\n",
       "[5 rows x 80 columns]"
      ]
     },
     "execution_count": 4,
     "metadata": {},
     "output_type": "execute_result"
    }
   ],
   "source": [
    "# Fill NaN values with the most common variable from that column.\n",
    "# I can't use impute impute because sklearn.impute is not in the\n",
    "# latest stable version of scikit\n",
    "\n",
    "print('Filling NaNs...\\n')\n",
    "data_a_x = data_a_x.apply(lambda x : x.fillna(x.value_counts().index[0]))\n",
    "data_a_x.head()"
   ]
  },
  {
   "cell_type": "code",
   "execution_count": 5,
   "metadata": {},
   "outputs": [
    {
     "name": "stdout",
     "output_type": "stream",
     "text": [
      "Deleting PID...\n",
      "\n"
     ]
    }
   ],
   "source": [
    "# PID is a catagorical label that the program may treat as a number\n",
    "# this could cause the model to correlate a pattern that doesn't exist\n",
    "print('Deleting PID...\\n')\n",
    "del data_a_x['PID']"
   ]
  },
  {
   "cell_type": "code",
   "execution_count": 6,
   "metadata": {},
   "outputs": [
    {
     "name": "stdout",
     "output_type": "stream",
     "text": [
      "Transforming categorical data...\n",
      "\n"
     ]
    }
   ],
   "source": [
    "# One hot encode categorical features\n",
    "# because we can't have those here\n",
    "print('Transforming categorical data...\\n')\n",
    "data_a_x = pd.get_dummies(data_a_x, columns=cat_features(data_a_x))"
   ]
  },
  {
   "cell_type": "code",
   "execution_count": 7,
   "metadata": {},
   "outputs": [
    {
     "name": "stdout",
     "output_type": "stream",
     "text": [
      "New table shape: (2344, 298)\n",
      "\n",
      "New column types: \n",
      "uint8      262\n",
      "int64       25\n",
      "float64     11\n",
      "dtype: int64\n",
      "\n"
     ]
    }
   ],
   "source": [
    "print('New table shape: ' + str(data_a_x.shape) +\n",
    "     '\\n')\n",
    "print('New column types: \\n' +\n",
    "     str(data_a_x.dtypes.value_counts()) +\n",
    "     '\\n')"
   ]
  },
  {
   "cell_type": "markdown",
   "metadata": {},
   "source": [
    "## II. Exploratory Analysis Questions\n",
    "Perform an exploratory analysis on your data by visualizing and/or applying other means of data exploration."
   ]
  },
  {
   "cell_type": "markdown",
   "metadata": {},
   "source": [
    "#### 1) What (if any) insights jump out at you?"
   ]
  },
  {
   "cell_type": "markdown",
   "metadata": {},
   "source": [
    "I tried to print the KDE model and it almost crashed my computer."
   ]
  },
  {
   "cell_type": "markdown",
   "metadata": {},
   "source": [
    "#### 2) Do you have any hypotheses about relationship of certain variables to the price?"
   ]
  },
  {
   "cell_type": "markdown",
   "metadata": {},
   "source": [
    "Houses with pools probably tend to cost more"
   ]
  },
  {
   "cell_type": "markdown",
   "metadata": {},
   "source": [
    "## III. Model Building\n",
    "First construct a baseline model (containing all predictors) to predict the price. Then build the best model you can devise. In this part use ONLY dataset A and DO NOT TOUCH dataset B. You will want to split this into training and test sets and apply error metrics/compare models only on the test data."
   ]
  },
  {
   "cell_type": "code",
   "execution_count": 9,
   "metadata": {},
   "outputs": [
    {
     "name": "stdout",
     "output_type": "stream",
     "text": [
      "Spliting base model training and testing data...\n",
      "\n"
     ]
    }
   ],
   "source": [
    "# Split into train test sets\n",
    "print('Spliting base model training and testing data...\\n')\n",
    "a_x_train, a_x_test, a_y_train, a_y_test = train_test_split(data_a_x, data_a_y, test_size=.2, random_state=4)"
   ]
  },
  {
   "cell_type": "code",
   "execution_count": 10,
   "metadata": {},
   "outputs": [
    {
     "name": "stdout",
     "output_type": "stream",
     "text": [
      "Building base model...\n",
      "\n",
      "Regression error report: \n",
      "MSE, MAE, R^2, EVS: [668254290.023182, 11380.980722750304, 0.9014204575625123, 0.902199088676741]\n"
     ]
    }
   ],
   "source": [
    "# Build a base model\n",
    "print('Building base model...\\n')\n",
    "base_model = linear_model.LinearRegression()\n",
    "base_model.fit(a_x_train, a_y_train)\n",
    "preds = base_model.predict(a_x_test)\n",
    "print('Regression error report: ')\n",
    "print_regression_error_report(a_y_test, preds)"
   ]
  },
  {
   "cell_type": "markdown",
   "metadata": {},
   "source": [
    "#### 1) What approach did you use to arrive at the best model? Why did you select this approach?"
   ]
  },
  {
   "cell_type": "code",
   "execution_count": 11,
   "metadata": {},
   "outputs": [
    {
     "name": "stdout",
     "output_type": "stream",
     "text": [
      "Selecting features with RFECV...\n",
      "\n",
      "Building model...\n",
      "\n",
      "Testing model...\n",
      "\n",
      "Regression error report: \n",
      "MSE, MAE, R^2, EVS: [668254290.023182, 11380.980722750304, 0.8864990710646194, 0.8873955588406606]\n"
     ]
    }
   ],
   "source": [
    "# I'm using recursive feature elimination with cross validation\n",
    "# because I don't want to have to go through and find the optimal\n",
    "# number of features myself\n",
    "\n",
    "print('Selecting features with RFECV...\\n')\n",
    "selector_f = RFECV(estimator = linear_model.LinearRegression(), \n",
    "                   scoring = make_scorer(r2_score), \n",
    "                   cv=5)\n",
    "selector_f.fit(a_x_train, a_y_train)\n",
    "\n",
    "# Get cols\n",
    "axt_train, axt_test = selector_f.transform(a_x_train), selector_f.transform(a_x_test)\n",
    "\n",
    "print('Building model...\\n')\n",
    "# Create models\n",
    "model = linear_model.LinearRegression()\n",
    "model.fit(axt_train, a_y_train)\n",
    "\n",
    "# Makes predictions\n",
    "print('Testing model...\\n')\n",
    "preds = model.predict(axt_test)\n",
    "print('Regression error report: ')\n",
    "print_regression_error_report(preds, a_y_test)"
   ]
  },
  {
   "cell_type": "markdown",
   "metadata": {},
   "source": [
    "#### 2) Which error metric(s) are you using to compare performance? What is the value(s) of the error metric(s) for the baseline model and your best model?"
   ]
  },
  {
   "cell_type": "markdown",
   "metadata": {},
   "source": [
    "I'm primarily using R^2 but it's lower for RFECV (.8865) than it is for the baseline model(.9014). The high MSE's imply that this is likely due to outliers in the data but I can't find them."
   ]
  },
  {
   "cell_type": "markdown",
   "metadata": {},
   "source": [
    "## IV. Predicting and Validating\n",
    "Run your baseline and best models on dataset B. DO NOT do any further training. Remember to apply all transforms you used in building the model to this set (use the transform function on the preprocessors you created in part I)."
   ]
  },
  {
   "cell_type": "code",
   "execution_count": 12,
   "metadata": {},
   "outputs": [
    {
     "name": "stdout",
     "output_type": "stream",
     "text": [
      "(586, 80)\n"
     ]
    }
   ],
   "source": [
    "data_b_x = set_b[list(set_b)[:-1]]\n",
    "data_b_y = set_b[list(set_b)[-1]]\n",
    "\n",
    "print(data_b_x.shape)"
   ]
  },
  {
   "cell_type": "code",
   "execution_count": 13,
   "metadata": {},
   "outputs": [
    {
     "name": "stdout",
     "output_type": "stream",
     "text": [
      "Deleting PID...\n",
      "\n",
      "Filling NaNs...\n",
      "\n",
      "Transforming categorical data...\n",
      "\n",
      "(586, 269)\n"
     ]
    }
   ],
   "source": [
    "print('Deleting PID...\\n')\n",
    "del data_b_x['PID']\n",
    "\n",
    "print('Filling NaNs...\\n')\n",
    "data_b_x = data_b_x.apply(lambda x : x.fillna(x.value_counts().index[0]))\n",
    "\n",
    "print('Transforming categorical data...\\n')\n",
    "data_b_x = pd.get_dummies(data_b_x, columns=cat_features(data_b_x))\n",
    "print(data_b_x.shape)"
   ]
  },
  {
   "cell_type": "code",
   "execution_count": 14,
   "metadata": {},
   "outputs": [
    {
     "name": "stdout",
     "output_type": "stream",
     "text": [
      "(586, 298)\n"
     ]
    }
   ],
   "source": [
    "# for col in columns of data a x\n",
    "#  if col not in dolumns of data b x\n",
    "#   add a col of name col with modes from data a\n",
    "\n",
    "\n",
    "for col in data_a_x.columns:\n",
    "    if col not in data_b_x.columns:\n",
    "        data_b_x[col] = [data_a_x[col].value_counts().index[0]] * data_b_x.shape[0]\n",
    "\n",
    "# for col in cols of data b x\n",
    "#  if col not in cols of data a x\n",
    "#   remove them\n",
    "\n",
    "for col in data_b_x.columns:\n",
    "    if col not in data_a_x.columns:\n",
    "        del data_b_x[col]\n",
    "\n",
    "print(data_b_x.shape)\n"
   ]
  },
  {
   "cell_type": "code",
   "execution_count": 16,
   "metadata": {},
   "outputs": [
    {
     "name": "stdout",
     "output_type": "stream",
     "text": [
      "Linear regression error report: \n",
      "MSE, MAE, R^2, EVS: [89342538566.50015, 260867.23625385552, -14.904138110159526, -2.0120210115361163]\n"
     ]
    }
   ],
   "source": [
    "# use the linear model\n",
    "preds = base_model.predict(data_b_x)\n",
    "print('Linear regression error report: ')\n",
    "print_regression_error_report(data_b_y, preds)\n",
    "# wow that was really bad"
   ]
  },
  {
   "cell_type": "code",
   "execution_count": 17,
   "metadata": {},
   "outputs": [
    {
     "name": "stdout",
     "output_type": "stream",
     "text": [
      "Testing model...\n",
      "\n",
      "Regression error report: \n",
      "MSE, MAE, R^2, EVS: [89342538566.50015, 260867.23625385552, -3.1694089815978037, 0.2103723338369563]\n"
     ]
    }
   ],
   "source": [
    "# Use the better model\n",
    "print('Testing model...\\n')\n",
    "preds = model.predict(data_b_x)\n",
    "print('Regression error report: ')\n",
    "print_regression_error_report(preds, data_b_y)"
   ]
  },
  {
   "cell_type": "markdown",
   "metadata": {},
   "source": [
    "#### 1) What are the respective error metric values for each model on this set? How did your best model do on this data as compared to the baseline?"
   ]
  },
  {
   "cell_type": "markdown",
   "metadata": {},
   "source": [
    "The base model got an R^2 of -14 and the best model got an R^2 of -3. This may be due to the columns that were not in B containing the most frequent values from a, skewing the predictions"
   ]
  },
  {
   "cell_type": "markdown",
   "metadata": {},
   "source": [
    "#### 2) Is your best model a good model? Why or why not"
   ]
  },
  {
   "cell_type": "markdown",
   "metadata": {},
   "source": [
    "No, it couldn't make predictions with any remote amount of accuracy."
   ]
  },
  {
   "cell_type": "code",
   "execution_count": null,
   "metadata": {},
   "outputs": [],
   "source": []
  }
 ],
 "metadata": {
  "kernelspec": {
   "display_name": "Python 3",
   "language": "python",
   "name": "python3"
  },
  "language_info": {
   "codemirror_mode": {
    "name": "ipython",
    "version": 3
   },
   "file_extension": ".py",
   "mimetype": "text/x-python",
   "name": "python",
   "nbconvert_exporter": "python",
   "pygments_lexer": "ipython3",
   "version": "3.7.0"
  }
 },
 "nbformat": 4,
 "nbformat_minor": 2
}
